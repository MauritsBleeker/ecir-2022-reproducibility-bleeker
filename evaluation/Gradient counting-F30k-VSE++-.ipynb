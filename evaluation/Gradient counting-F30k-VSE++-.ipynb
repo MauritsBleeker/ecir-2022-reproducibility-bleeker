{
 "cells": [
  {
   "cell_type": "code",
   "execution_count": null,
   "metadata": {},
   "outputs": [],
   "source": [
    "import sys\n",
    "sys.path += [\"../\"]"
   ]
  },
  {
   "cell_type": "code",
   "execution_count": null,
   "metadata": {},
   "outputs": [],
   "source": [
    "from shared.evaluation import utils\n",
    "from vsepp.model import VSE\n",
    "from vsepp.vocab import Vocabulary\n",
    "import os\n",
    "import torch\n",
    "import pickle\n",
    "from vsepp.data import get_transform, get_loader_single, collate_fn, get_paths\n",
    "from torch.autograd import Variable\n",
    "from shared.losses import Triplet, NTXent, SmoothAP\n",
    "from shared.evaluation.utils import GradStats\n",
    "from collections import defaultdict\n",
    "import numpy as np"
   ]
  },
  {
   "cell_type": "code",
   "execution_count": null,
   "metadata": {},
   "outputs": [],
   "source": [
    "model_path = '{path to repo}/out/vsepp/out/f30k/paper_experiments/ntxent/0/model_best.pth.tar'"
   ]
  },
  {
   "cell_type": "code",
   "execution_count": null,
   "metadata": {},
   "outputs": [],
   "source": [
    "checkpoint = torch.load(model_path)\n",
    "opt = checkpoint['opt']\n",
    "\n",
    "\n",
    "# load vocabulary used by the model\n",
    "with open(os.path.join(opt.vocab_path,\n",
    "                       '%s_vocab.pkl' % opt.data_name), 'rb') as f:\n",
    "    vocab = pickle.load(f)\n",
    "opt.vocab_size = len(vocab)\n",
    "\n",
    "# construct model\n",
    "model = VSE(opt)\n",
    "\n",
    "# load model state\n",
    "model.load_state_dict(checkpoint['model'])"
   ]
  },
  {
   "cell_type": "code",
   "execution_count": null,
   "metadata": {},
   "outputs": [],
   "source": [
    "transform = get_transform(opt.data_name, 'val', opt)\n",
    "files, ids = get_paths(opt.data_path, opt.data_name, opt.use_restval)\n",
    "data_loader =   get_loader_single(opt.data_name, 'train',\n",
    "                                     files['train'],\n",
    "                                     vocab, transform, ids=ids['train'],\n",
    "                                     batch_size=opt.batch_size, shuffle=True,\n",
    "                                     num_workers=opt.workers,\n",
    "                                     collate_fn=collate_fn, ranking_based=opt.ranking_based,  n_sp=opt.n_sp)"
   ]
  },
  {
   "cell_type": "code",
   "execution_count": null,
   "metadata": {},
   "outputs": [],
   "source": [
    "model.val_start()\n",
    "\n",
    "triplet = Triplet(count_grads=True, margin=opt.margin, max_violation=opt.max_violation)\n",
    "ntxent = NTXent(tau=opt.tau)\n",
    "smoothap = SmoothAP()\n",
    "stats = GradStats()\n",
    "\n",
    "for i, data in enumerate(data_loader):\n",
    "    images, captions, lengths, ids = data\n",
    "    img_emb, cap_emb  = model.forward_emb(images, captions, lengths)\n",
    "    \n",
    "    #out = triplet(img_emb, cap_emb)\n",
    "    \n",
    "    out = ntxent(img_emb, cap_emb, count_gradients=True,  threshold=0.01)\n",
    "    \n",
    "    # i2t, t2i = smoothap(img_emb, cap_emb, count_gradients=True)\n",
    "    # stats.add_stats(i2t)\n",
    "    # stats.add_stats(t2i)\n",
    "    \n",
    "    stats.add_stats(out)\n",
    "stats.print_stats()"
   ]
  },
  {
   "cell_type": "code",
   "execution_count": null,
   "metadata": {},
   "outputs": [],
   "source": [
    "for key, value in stats.data.items():\n",
    "    print(\"%s: %.2f $\\pm$  %.2f\"%(key, np.mean(value), np.std(value)))"
   ]
  },
  {
   "cell_type": "code",
   "execution_count": null,
   "metadata": {},
   "outputs": [],
   "source": [
    "1-s_i2t.diag.mean: 0.56 $\\pm$  0.02\n",
    "1-s_t2i.diag.mean: 0.56 $\\pm$  0.02\n",
    "i2t_low_grad: 0.14 $\\pm$  0.01\n",
    "i2t_high_grad: 0.42 $\\pm$  0.02\n",
    "i2t_n_high_grad: 9.88 $\\pm$  0.53\n",
    "t2i_low_grad: 0.14 $\\pm$  0.01\n",
    "t2i_high_grad: 0.42 $\\pm$  0.02\n",
    "t2i_n_high_grad: 9.65 $\\pm$  0.51"
   ]
  }
 ],
 "metadata": {
  "kernelspec": {
   "display_name": "Python 3",
   "language": "python",
   "name": "python3"
  },
  "language_info": {
   "codemirror_mode": {
    "name": "ipython",
    "version": 3
   },
   "file_extension": ".py",
   "mimetype": "text/x-python",
   "name": "python",
   "nbconvert_exporter": "python",
   "pygments_lexer": "ipython3",
   "version": "3.7.1"
  }
 },
 "nbformat": 4,
 "nbformat_minor": 5
}
