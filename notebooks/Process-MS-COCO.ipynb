{
 "cells": [
  {
   "cell_type": "code",
   "execution_count": null,
   "metadata": {},
   "outputs": [],
   "source": [
    "from pycocotools.coco import COCO\n",
    "import numpy as np\n",
    "import skimage.io as io\n",
    "import matplotlib.pyplot as plt\n",
    "import pickle\n",
    "from six import BytesIO as IO\n",
    "from PIL import Image\n",
    "import os\n",
    "import json\n",
    "from collections import defaultdict"
   ]
  },
  {
   "cell_type": "code",
   "execution_count": null,
   "metadata": {},
   "outputs": [],
   "source": [
    "dataDir=''\n",
    "dataType='train2014'\n",
    "annFile='{}/annotations/instances_{}.json'.format(dataDir,dataType)\n",
    "annFile = '{}/annotations/captions_{}.json'.format(dataDir,dataType)"
   ]
  },
  {
   "cell_type": "code",
   "execution_count": null,
   "metadata": {},
   "outputs": [],
   "source": [
    "coco=COCO(annFile)\n",
    "coco_caps=COCO(annFile)"
   ]
  },
  {
   "cell_type": "code",
   "execution_count": null,
   "metadata": {},
   "outputs": [],
   "source": [
    "json_file = '{}/dataset_coco.json'.format(dataDir)\n",
    "with open(json_file) as json_file:\n",
    "    data_json = json.load(json_file)"
   ]
  },
  {
   "cell_type": "code",
   "execution_count": null,
   "metadata": {},
   "outputs": [],
   "source": [
    "train_dict = defaultdict(dict)\n",
    "val_dict = defaultdict(dict)\n",
    "test_dict = defaultdict(dict)\n",
    "\n",
    "\n",
    "for i, image_data in enumerate(data_json['images']):\n",
    "    try:\n",
    "        \n",
    "        if image_data['split'] == 'train' or image_data['split'] ==  'restval':\n",
    "            out = train_dict\n",
    "        elif image_data['split'] == 'val':\n",
    "            out = val_dict\n",
    "        elif image_data['split'] == 'test':\n",
    "            out = test_dict\n",
    "        else:\n",
    "            break\n",
    "            print('error no split') \n",
    "        \n",
    "        img = open('{}/{}/{}'.format(dataDir, image_data['filepath'], image_data['filename']), 'rb').read()\n",
    "        img_id = image_data['imgid']\n",
    "        coco_id = image_data['cocoid']\n",
    "        out['images'][img_id] = {'image': img,  'filename' : image_data['filename'], 'caption_ids': image_data['sentids'], 'cocoid': image_data['cocoid']}\n",
    "        \n",
    "        for caption in image_data['sentences'][:5]:\n",
    "            out['captions'][caption['sentid']] = {\n",
    "                'caption': caption['raw'], \n",
    "                'imgid': img_id, \n",
    "                'tokens': caption['tokens'],\n",
    "                'filename': image_data['filename'],\n",
    "                'cocoid': coco_id\n",
    "            }\n",
    "        \n",
    "        if i % 1000 == 0:\n",
    "            print(i)\n",
    "        \n",
    "    except:\n",
    "        print('error')\n",
    "        continue"
   ]
  },
  {
   "cell_type": "code",
   "execution_count": null,
   "metadata": {},
   "outputs": [],
   "source": [
    "print(len(train_dict['images']))\n",
    "print(len(val_dict['images']))\n",
    "print(len(test_dict['images']))"
   ]
  },
  {
   "cell_type": "code",
   "execution_count": null,
   "metadata": {},
   "outputs": [],
   "source": [
    "root = ''\n",
    "mscoco = 'ms-coco'\n",
    "\n",
    "pickle.dump( train_dict, open(os.path.join(root, mscoco, 'train_set.p'), \"wb\" ))\n",
    "pickle.dump( val_dict,   open(os.path.join(root, mscoco, 'val_set.p'), \"wb\" ))\n",
    "pickle.dump( test_dict,  open(os.path.join(root, mscoco, 'test_set.p'), \"wb\" ))"
   ]
  }
 ],
 "metadata": {
  "kernelspec": {
   "display_name": "Python 3",
   "language": "python",
   "name": "python3"
  },
  "language_info": {
   "codemirror_mode": {
    "name": "ipython",
    "version": 3
   },
   "file_extension": ".py",
   "mimetype": "text/x-python",
   "name": "python",
   "nbconvert_exporter": "python",
   "pygments_lexer": "ipython3",
   "version": "3.7.1"
  }
 },
 "nbformat": 4,
 "nbformat_minor": 2
}
